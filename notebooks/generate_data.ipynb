{
 "cells": [
  {
   "cell_type": "code",
   "execution_count": 1,
   "metadata": {},
   "outputs": [
    {
     "name": "stdout",
     "output_type": "stream",
     "text": [
      "c:\\Users\\ginns\\Documents\\Code Projects\\dimension_reduction\n"
     ]
    }
   ],
   "source": [
    "cd .."
   ]
  },
  {
   "cell_type": "code",
   "execution_count": 2,
   "metadata": {},
   "outputs": [],
   "source": [
    "%load_ext autoreload\r\n",
    "%autoreload 2"
   ]
  },
  {
   "cell_type": "code",
   "execution_count": 6,
   "metadata": {},
   "outputs": [],
   "source": [
    "from gendata.create_nd_data import generate_nd_data\r\n",
    "from dimreduce.reduce_dimensionality import reduce_dim"
   ]
  },
  {
   "cell_type": "code",
   "execution_count": 7,
   "metadata": {},
   "outputs": [
    {
     "data": {
      "text/html": "<div>\n<style scoped>\n    .dataframe tbody tr th:only-of-type {\n        vertical-align: middle;\n    }\n\n    .dataframe tbody tr th {\n        vertical-align: top;\n    }\n\n    .dataframe thead th {\n        text-align: right;\n    }\n</style>\n<table border=\"1\" class=\"dataframe\">\n  <thead>\n    <tr style=\"text-align: right;\">\n      <th></th>\n      <th>0</th>\n      <th>1</th>\n      <th>2</th>\n      <th>3</th>\n      <th>4</th>\n      <th>5</th>\n    </tr>\n  </thead>\n  <tbody>\n    <tr>\n      <th>0</th>\n      <td>-0.417540</td>\n      <td>-1.567680</td>\n      <td>-1.936655</td>\n      <td>0.367884</td>\n      <td>0.915164</td>\n      <td>-1.042309</td>\n    </tr>\n    <tr>\n      <th>1</th>\n      <td>1.508872</td>\n      <td>0.173325</td>\n      <td>-0.915798</td>\n      <td>-1.012383</td>\n      <td>-0.523646</td>\n      <td>0.773267</td>\n    </tr>\n    <tr>\n      <th>2</th>\n      <td>0.507657</td>\n      <td>1.389786</td>\n      <td>-0.365045</td>\n      <td>-1.154148</td>\n      <td>-0.151587</td>\n      <td>-0.924099</td>\n    </tr>\n    <tr>\n      <th>3</th>\n      <td>-0.403864</td>\n      <td>-0.737584</td>\n      <td>0.519040</td>\n      <td>0.366140</td>\n      <td>-1.707728</td>\n      <td>0.318007</td>\n    </tr>\n    <tr>\n      <th>4</th>\n      <td>-1.974645</td>\n      <td>-1.745853</td>\n      <td>0.781303</td>\n      <td>-1.673452</td>\n      <td>0.697591</td>\n      <td>-1.374764</td>\n    </tr>\n    <tr>\n      <th>...</th>\n      <td>...</td>\n      <td>...</td>\n      <td>...</td>\n      <td>...</td>\n      <td>...</td>\n      <td>...</td>\n    </tr>\n    <tr>\n      <th>95</th>\n      <td>0.800282</td>\n      <td>1.700114</td>\n      <td>-0.441181</td>\n      <td>0.929047</td>\n      <td>-0.024649</td>\n      <td>0.639691</td>\n    </tr>\n    <tr>\n      <th>96</th>\n      <td>-1.116376</td>\n      <td>-0.129047</td>\n      <td>-0.043476</td>\n      <td>-1.783398</td>\n      <td>0.905494</td>\n      <td>0.257446</td>\n    </tr>\n    <tr>\n      <th>97</th>\n      <td>0.157927</td>\n      <td>0.966263</td>\n      <td>-0.468196</td>\n      <td>0.876984</td>\n      <td>-0.200427</td>\n      <td>1.013612</td>\n    </tr>\n    <tr>\n      <th>98</th>\n      <td>-0.433563</td>\n      <td>0.835134</td>\n      <td>-0.454021</td>\n      <td>-2.214040</td>\n      <td>0.587377</td>\n      <td>-0.999497</td>\n    </tr>\n    <tr>\n      <th>99</th>\n      <td>0.841857</td>\n      <td>-0.141874</td>\n      <td>-0.257214</td>\n      <td>0.623081</td>\n      <td>-1.309987</td>\n      <td>-1.323069</td>\n    </tr>\n  </tbody>\n</table>\n<p>100 rows × 6 columns</p>\n</div>",
      "text/plain": "           0         1         2         3         4         5\n0  -0.417540 -1.567680 -1.936655  0.367884  0.915164 -1.042309\n1   1.508872  0.173325 -0.915798 -1.012383 -0.523646  0.773267\n2   0.507657  1.389786 -0.365045 -1.154148 -0.151587 -0.924099\n3  -0.403864 -0.737584  0.519040  0.366140 -1.707728  0.318007\n4  -1.974645 -1.745853  0.781303 -1.673452  0.697591 -1.374764\n..       ...       ...       ...       ...       ...       ...\n95  0.800282  1.700114 -0.441181  0.929047 -0.024649  0.639691\n96 -1.116376 -0.129047 -0.043476 -1.783398  0.905494  0.257446\n97  0.157927  0.966263 -0.468196  0.876984 -0.200427  1.013612\n98 -0.433563  0.835134 -0.454021 -2.214040  0.587377 -0.999497\n99  0.841857 -0.141874 -0.257214  0.623081 -1.309987 -1.323069\n\n[100 rows x 6 columns]"
     },
     "execution_count": 7,
     "metadata": {},
     "output_type": "execute_result"
    }
   ],
   "source": [
    "data_df = generate_nd_data(0, 1, 100, 6)\r\n",
    "data_df"
   ]
  },
  {
   "cell_type": "code",
   "execution_count": 8,
   "metadata": {},
   "outputs": [
    {
     "data": {
      "text/html": "<div>\n<style scoped>\n    .dataframe tbody tr th:only-of-type {\n        vertical-align: middle;\n    }\n\n    .dataframe tbody tr th {\n        vertical-align: top;\n    }\n\n    .dataframe thead th {\n        text-align: right;\n    }\n</style>\n<table border=\"1\" class=\"dataframe\">\n  <thead>\n    <tr style=\"text-align: right;\">\n      <th></th>\n      <th>0</th>\n      <th>1</th>\n      <th>2</th>\n      <th>3</th>\n      <th>4</th>\n      <th>5</th>\n    </tr>\n  </thead>\n  <tbody>\n    <tr>\n      <th>count</th>\n      <td>100.000000</td>\n      <td>100.000000</td>\n      <td>100.000000</td>\n      <td>100.000000</td>\n      <td>100.000000</td>\n      <td>100.000000</td>\n    </tr>\n    <tr>\n      <th>mean</th>\n      <td>0.073124</td>\n      <td>0.039662</td>\n      <td>0.081158</td>\n      <td>0.025257</td>\n      <td>0.061763</td>\n      <td>-0.010174</td>\n    </tr>\n    <tr>\n      <th>std</th>\n      <td>0.967959</td>\n      <td>1.086777</td>\n      <td>1.077054</td>\n      <td>1.033022</td>\n      <td>1.030015</td>\n      <td>0.887150</td>\n    </tr>\n    <tr>\n      <th>min</th>\n      <td>-2.148667</td>\n      <td>-2.563717</td>\n      <td>-2.740227</td>\n      <td>-2.259746</td>\n      <td>-3.162665</td>\n      <td>-2.359729</td>\n    </tr>\n    <tr>\n      <th>25%</th>\n      <td>-0.608735</td>\n      <td>-0.655808</td>\n      <td>-0.651471</td>\n      <td>-0.616363</td>\n      <td>-0.545583</td>\n      <td>-0.782893</td>\n    </tr>\n    <tr>\n      <th>50%</th>\n      <td>-0.001326</td>\n      <td>-0.019070</td>\n      <td>-0.095373</td>\n      <td>0.026643</td>\n      <td>0.166207</td>\n      <td>0.054792</td>\n    </tr>\n    <tr>\n      <th>75%</th>\n      <td>0.713774</td>\n      <td>0.868743</td>\n      <td>0.786579</td>\n      <td>0.704652</td>\n      <td>0.704367</td>\n      <td>0.626804</td>\n    </tr>\n    <tr>\n      <th>max</th>\n      <td>2.105072</td>\n      <td>2.764732</td>\n      <td>2.966468</td>\n      <td>2.181854</td>\n      <td>2.989227</td>\n      <td>2.285894</td>\n    </tr>\n  </tbody>\n</table>\n</div>",
      "text/plain": "                0           1           2           3           4           5\ncount  100.000000  100.000000  100.000000  100.000000  100.000000  100.000000\nmean     0.073124    0.039662    0.081158    0.025257    0.061763   -0.010174\nstd      0.967959    1.086777    1.077054    1.033022    1.030015    0.887150\nmin     -2.148667   -2.563717   -2.740227   -2.259746   -3.162665   -2.359729\n25%     -0.608735   -0.655808   -0.651471   -0.616363   -0.545583   -0.782893\n50%     -0.001326   -0.019070   -0.095373    0.026643    0.166207    0.054792\n75%      0.713774    0.868743    0.786579    0.704652    0.704367    0.626804\nmax      2.105072    2.764732    2.966468    2.181854    2.989227    2.285894"
     },
     "execution_count": 8,
     "metadata": {},
     "output_type": "execute_result"
    }
   ],
   "source": [
    "data_df.describe()"
   ]
  },
  {
   "cell_type": "code",
   "execution_count": 10,
   "metadata": {},
   "outputs": [
    {
     "data": {
      "text/html": "<div>\n<style scoped>\n    .dataframe tbody tr th:only-of-type {\n        vertical-align: middle;\n    }\n\n    .dataframe tbody tr th {\n        vertical-align: top;\n    }\n\n    .dataframe thead th {\n        text-align: right;\n    }\n</style>\n<table border=\"1\" class=\"dataframe\">\n  <thead>\n    <tr style=\"text-align: right;\">\n      <th></th>\n      <th>latent0</th>\n      <th>latent1</th>\n    </tr>\n  </thead>\n  <tbody>\n    <tr>\n      <th>0</th>\n      <td>-0.255179</td>\n      <td>-1.089035</td>\n    </tr>\n    <tr>\n      <th>1</th>\n      <td>1.266901</td>\n      <td>-0.944178</td>\n    </tr>\n    <tr>\n      <th>2</th>\n      <td>1.165051</td>\n      <td>-0.826087</td>\n    </tr>\n    <tr>\n      <th>3</th>\n      <td>-0.127115</td>\n      <td>0.013031</td>\n    </tr>\n    <tr>\n      <th>4</th>\n      <td>-2.476432</td>\n      <td>-1.966581</td>\n    </tr>\n    <tr>\n      <th>...</th>\n      <td>...</td>\n      <td>...</td>\n    </tr>\n    <tr>\n      <th>95</th>\n      <td>1.589000</td>\n      <td>1.400810</td>\n    </tr>\n    <tr>\n      <th>96</th>\n      <td>-0.783947</td>\n      <td>-1.212901</td>\n    </tr>\n    <tr>\n      <th>97</th>\n      <td>1.087442</td>\n      <td>1.178653</td>\n    </tr>\n    <tr>\n      <th>98</th>\n      <td>0.284959</td>\n      <td>-1.775916</td>\n    </tr>\n    <tr>\n      <th>99</th>\n      <td>0.805647</td>\n      <td>-0.285328</td>\n    </tr>\n  </tbody>\n</table>\n<p>100 rows × 2 columns</p>\n</div>",
      "text/plain": "     latent0   latent1\n0  -0.255179 -1.089035\n1   1.266901 -0.944178\n2   1.165051 -0.826087\n3  -0.127115  0.013031\n4  -2.476432 -1.966581\n..       ...       ...\n95  1.589000  1.400810\n96 -0.783947 -1.212901\n97  1.087442  1.178653\n98  0.284959 -1.775916\n99  0.805647 -0.285328\n\n[100 rows x 2 columns]"
     },
     "execution_count": 10,
     "metadata": {},
     "output_type": "execute_result"
    }
   ],
   "source": [
    "reduce_dim(data_df, 2, 'svd')[0]"
   ]
  },
  {
   "cell_type": "code",
   "execution_count": null,
   "metadata": {},
   "outputs": [],
   "source": []
  }
 ],
 "metadata": {
  "kernelspec": {
   "display_name": "Python 3.9.4 64-bit ('dimreduce': conda)",
   "name": "dimreduce"
  },
  "language_info": {
   "codemirror_mode": {
    "name": "ipython",
    "version": 3
   },
   "file_extension": ".py",
   "mimetype": "text/x-python",
   "name": "python",
   "nbconvert_exporter": "python",
   "pygments_lexer": "ipython3",
   "version": "3.9.4"
  },
  "orig_nbformat": 2
 },
 "nbformat": 4,
 "nbformat_minor": 2
}